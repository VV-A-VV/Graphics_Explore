{
 "cells": [
  {
   "cell_type": "code",
   "execution_count": 39,
   "metadata": {},
   "outputs": [],
   "source": [
    "import sys\n",
    "import numpy as np\n",
    "from PNM import *\n",
    "# define pi for convenience\n",
    "pi = np.pi\n",
    "\n",
    "def CreateAndSavePFM(out_path):\n",
    "    width = 512\n",
    "    height = 512\n",
    "    numComponents = 3\n",
    "\n",
    "    img_out = np.empty(shape=(width, height, numComponents), dtype=np.float32)\n",
    "    \n",
    "    for y in range(height):\n",
    "        for x in range(width):\n",
    "            img_out[y,x,:] = 1.0\n",
    "\n",
    "    write_pfm(out_path, img_out)\n",
    "\n",
    "def LoadAndSavePPM(in_path, out_path):\n",
    "    img_in = read_ppm(in_path)\n",
    "    img_out = np.empty(shape=img_in.shape, dtype=img_in.dtype)\n",
    "    height,width,_ = img_in.shape # Retrieve height and width\n",
    "    for y in range(height):\n",
    "        for x in range(width):\n",
    "            img_out[y,x,:] = img_in[y,x,:] # Copy pixels\n",
    "\n",
    "    write_ppm(out_path, img_out)\n",
    "\n",
    "def LoadAndSavePFM(in_path, out_path):\n",
    "    img_in = read_pfm(in_path)\n",
    "    img_out = np.empty(shape=img_in.shape, dtype=img_in.dtype)\n",
    "    height,width,_ = img_in.shape # Retrieve height and width\n",
    "    for y in range(height):\n",
    "        for x in range(width):\n",
    "            img_out[y,x,:] = img_in[y,x,:] # Copy pixels\n",
    "\n",
    "    write_pfm(out_path, img_out)\n",
    "\n",
    "def LoadPPMAndSavePFM(in_path, out_path):\n",
    "    img_in = read_ppm(in_path)\n",
    "    img_out = np.empty(shape=img_in.shape, dtype=np.float32)\n",
    "    height,width,_ = img_in.shape\n",
    "    for y in range(height):\n",
    "        for x in range(width):\n",
    "            img_out[y,x,:] = img_in[y,x,:]/255.0\n",
    "\n",
    "    write_pfm(out_path, img_out)\n",
    "            \n",
    "def LoadPFMAndSavePPM(in_path, out_path):\n",
    "    img_in = read_pfm(in_path)\n",
    "    img_out = np.empty(shape=img_in.shape, dtype=np.float32)\n",
    "    height,width,_ = img_in.shape\n",
    "    for y in range(height):\n",
    "        for x in range(width):\n",
    "            img_out[y,x,:] = img_in[y,x,:] * 255.0\n",
    "\n",
    "    write_ppm(out_path, img_out.astype(np.uint8))\n",
    "\n",
    "def create_sphere_image():\n",
    "    width = 511\n",
    "    height = 511\n",
    "    numComponents = 3\n",
    "\n",
    "    img_out = np.empty(shape=(width, height, numComponents), dtype=np.float32)\n",
    "    # the sphere has diameter 511, the center point is the center of the image, the other part outside the sphere is black\n",
    "    for y in range(height):\n",
    "        for x in range(width):\n",
    "            if (x - 255.5) ** 2 + (y - 255.5) ** 2 <= 255.5 ** 2:\n",
    "                img_out[y, x, :] = 1.0\n",
    "            else:\n",
    "                img_out[y, x, :] = 0.0\n",
    "\n",
    "    return img_out\n"
   ]
  },
  {
   "cell_type": "code",
   "execution_count": 40,
   "metadata": {},
   "outputs": [
    {
     "name": "stdout",
     "output_type": "stream",
     "text": [
      "(511, 511, 3)\n",
      "(576, 864, 3)\n"
     ]
    }
   ],
   "source": [
    "environment_graph = read_pfm('../Office/Office6.pfm')\n",
    "sphere = create_sphere_image()\n",
    "print(sphere.shape)\n",
    "print(environment_graph.shape)"
   ]
  },
  {
   "cell_type": "code",
   "execution_count": 41,
   "metadata": {},
   "outputs": [],
   "source": [
    "# store the normal vector of each pixel\n",
    "normal = np.empty(shape=(sphere.shape[0], sphere.shape[1], 3), dtype=np.float32)\n"
   ]
  },
  {
   "attachments": {},
   "cell_type": "markdown",
   "metadata": {},
   "source": [
    "generate the normal vector map of sphere"
   ]
  },
  {
   "cell_type": "code",
   "execution_count": 42,
   "metadata": {},
   "outputs": [],
   "source": [
    "for y in range(sphere.shape[0]):\n",
    "    for x in range(sphere.shape[1]):\n",
    "        if sphere[y, x, 0] == 1.0:\n",
    "            # convert to polar coordinates\n",
    "            x_ = (x - 255.5) / 255.5\n",
    "            y_ = -(y - 255.5) / 255.5\n",
    "            z = np.sqrt(1 - x_ ** 2 - y_ ** 2)\n",
    "            normal[y, x, :] = np.array([x_, y_, z])\n",
    "# save as the graph\n",
    "write_pfm( 'normal.pfm', normal)"
   ]
  },
  {
   "cell_type": "code",
   "execution_count": 43,
   "metadata": {},
   "outputs": [
    {
     "name": "stdout",
     "output_type": "stream",
     "text": [
      "[0. 0. 0.]\n"
     ]
    }
   ],
   "source": [
    "print(normal[15, 65, :])"
   ]
  },
  {
   "cell_type": "code",
   "execution_count": 44,
   "metadata": {},
   "outputs": [],
   "source": [
    "v = np.array([0, 0, 1])\n",
    "# r = 2*(n dot v)n – v\n",
    "r_map = np.empty(shape=(sphere.shape[0], sphere.shape[1], 3), dtype=np.float32)\n",
    "for y in range(sphere.shape[0]):\n",
    "    for x in range(sphere.shape[1]):\n",
    "        if sphere[y, x, 0] == 1.0:\n",
    "            n = normal[y, x, :]\n",
    "            r = 2 * np.dot(n, v) * n - v\n",
    "            r_map[y, x, :] = r/np.linalg.norm(r)\n",
    "write_pfm('../r_map.pfm', r_map)"
   ]
  },
  {
   "cell_type": "code",
   "execution_count": 45,
   "metadata": {},
   "outputs": [
    {
     "name": "stdout",
     "output_type": "stream",
     "text": [
      "[ 0.00391388 -0.00391388  0.9999847 ]\n",
      "[0.00391388 0.00391388 0.9999847 ]\n"
     ]
    }
   ],
   "source": [
    "print(r_map[-255, -255, :])\n",
    "print(r_map[255, -255, :])\n"
   ]
  },
  {
   "cell_type": "code",
   "execution_count": 46,
   "metadata": {},
   "outputs": [],
   "source": [
    "# conver the normal map and r map to the ppm image\n",
    "normal_ppm = np.empty(shape=(sphere.shape[0], sphere.shape[1], 3), dtype=np.uint8)\n",
    "r_map_ppm = np.empty(shape=(sphere.shape[0], sphere.shape[1], 3), dtype=np.uint8)\n",
    "for x in range(sphere.shape[0]):\n",
    "    for y in range(sphere.shape[1]):\n",
    "        if sphere[x, y, 0] == 1.0:\n",
    "            # normal_ppm[x, y, :] = (normal[x, y, :] + 1 ) * 127.5 int \n",
    "            # r_map_ppm[x, y, :] = (r_map[x, y, :] + 1 ) * 127.5 int\n",
    "            normal_ppm[x, y, :] = (normal[x, y, :]/np.linalg.norm(normal)  + 1)/2 * 127.5\n",
    "            r_map_ppm[x, y, :] = (r_map[x, y, :] + 1)/2 * 127.5\n",
    "write_ppm('../normal.ppm', normal_ppm)\n",
    "write_ppm('../r_map.ppm', r_map_ppm)\n"
   ]
  },
  {
   "cell_type": "code",
   "execution_count": 47,
   "metadata": {},
   "outputs": [],
   "source": [
    "# Cartesian to polar coordinates conversion\n",
    "def cart2pol(x, y, z):\n",
    "    phi = np.arctan(z / x)\n",
    "    theta = np.arccos(y)\n",
    "    if phi < 0:\n",
    "        phi += np.pi\n",
    "    return phi, theta\n",
    "\n",
    "\n",
    "def pol2cart(phi, theta):\n",
    "    x = np.sin(phi) * np.cos(theta)\n",
    "    y = np.cos(phi)\n",
    "    z = np.sin(theta) * np.sin(phi)\n",
    "    return x, y, z"
   ]
  },
  {
   "cell_type": "code",
   "execution_count": 48,
   "metadata": {},
   "outputs": [],
   "source": [
    "#flip the environment graph\n",
    "# environment_graph_flip = np.flip(environment_graph, axis=1)"
   ]
  },
  {
   "cell_type": "code",
   "execution_count": 49,
   "metadata": {},
   "outputs": [],
   "source": [
    "# sphere = create_sphere_image()\n",
    "# record_phi_theta = np.empty(shape=(sphere.shape[0], sphere.shape[1], 2), dtype=np.float32)\n",
    "# print(r_map.shape)\n",
    "# for y in range(r_map.shape[0]):\n",
    "#     for x in range(r_map.shape[1]):\n",
    "#         if sphere[y, x, 0] == 1.0:\n",
    "#             x_, y_, z = r_map[y, x, :]\n",
    "#             phi, theta = cart2pol(x_, y_, z)\n",
    "#             record_phi_theta[y, x, :] = np.array([phi, theta])\n",
    "\n",
    "#             theta = theta / np.pi\n",
    "#             # phi = 2*np.pi - phi\n",
    "#             phi = (phi) / (2 * np.pi)\n",
    "#             # phi = 0.75 - phi if phi > 0.75 else 1.75 - phi\n",
    "#             sphere[y, x, :] = environment_graph[min(environment_graph.shape[0]-1,int(theta * environment_graph.shape[0])), min(environment_graph.shape[1]-1,environment_graph.shape[1] - int(phi * environment_graph.shape[1])), :]\n",
    "# write_pfm('../tests.pfm', sphere)\n"
   ]
  },
  {
   "cell_type": "code",
   "execution_count": 50,
   "metadata": {},
   "outputs": [],
   "source": [
    "sphere = create_sphere_image()\n",
    "tp = create_sphere_image()\n",
    "for y in range(sphere.shape[0]):\n",
    "    for x in range(sphere.shape[1]):\n",
    "        if sphere[y, x, 0] == 1.0:\n",
    "            # convert to polar coordinates\n",
    "            x_, y_, z = r_map[y, x, :]\n",
    "            u = (-x_ + 1) / 2\n",
    "            theta = np.arccos(y_)\n",
    "            phi = np.arccos(min(1.0, max(-1.0, x_ / np.sin(theta))))\n",
    "            if z < 0:\n",
    "                phi = 2 * np.pi - phi\n",
    "\n",
    "            theta = theta / np.pi\n",
    "            phi = phi / 2 / np.pi\n",
    "            phi = 0.75 - phi if phi < 0.75 else 1.75 - phi\n",
    "            sphere[y, x, :] = environment_graph[int(min(environment_graph.shape[0] - 1, theta * environment_graph.shape[0])), int(min(environment_graph.shape[1] - 1, phi * environment_graph.shape[1])), :]\n",
    "            tp[y, x, :] = np.array([theta, phi, 0])\n",
    "\n",
    "# sphere = sphere ** (1 / 2.2)\n",
    "write_pfm('ghost.pfm',sphere)\n",
    "# write_pfm(tp, 'tp.pfm')"
   ]
  },
  {
   "cell_type": "code",
   "execution_count": 51,
   "metadata": {},
   "outputs": [],
   "source": [
    "# sphere = create_sphere_image()\n",
    "# tp = create_sphere_image()\n",
    "# for y in range(sphere.shape[0]):\n",
    "#     for x in range(sphere.shape[1]):\n",
    "#         if sphere[y, x, 0] == 1.0:# convert to polar coordinates\n",
    "#             x_,y_,z = r_map[y,x,:]\n",
    "#         u=(-x_+1) /2\n",
    "#         theta = np.arccos(y_)\n",
    "#         phi = np.arccos(min(1.0, max(-1.0,x_ / np.sin(theta))))\n",
    "#         if z <0:\n",
    "#             phi = 2 *np.pi - phi\n",
    "#         theta = theta / np.pi\n",
    "#         phi = phi / 2 / np.pi\n",
    "#         phi = 0.75 - phi if phi < 0.75 else 1.75 - phi\n",
    "#         # pherely,x, =eviroment_graphit mn enviroment.grept.stapel0 -1, theta  eniroment.grepi.stepel0), nt nnewiroment. grapm.stepell -1, phi * eniromment.graph.stapelil)),tply, x, :] = np.array([theta, phi, 0])\n",
    "#         sphere[y, x, :] = environment_graph[int(phi * environment_graph.shape[0]), int(theta * environment_graph.shape[1]), :]\n",
    "# write_pfm('../tests.pfm', sphere)"
   ]
  },
  {
   "cell_type": "code",
   "execution_count": 52,
   "metadata": {},
   "outputs": [
    {
     "data": {
      "text/plain": [
       "(1.4711276743037347, 1.5707963267948966)"
      ]
     },
     "execution_count": 52,
     "metadata": {},
     "output_type": "execute_result"
    }
   ],
   "source": [
    "cart2pol(-0.1, 0, -1)"
   ]
  },
  {
   "cell_type": "code",
   "execution_count": 53,
   "metadata": {},
   "outputs": [],
   "source": [
    "\n",
    "# # # print the range of phi and theta\n",
    "# print(np.min(record_phi_theta[:,:,0]))\n",
    "# print(np.max(record_phi_theta[:,:,0]))\n",
    "# print(np.min(record_phi_theta[:,:,1]))\n",
    "# print(np.max(record_phi_theta[:,:,1]))\n",
    "\n",
    "            "
   ]
  },
  {
   "cell_type": "code",
   "execution_count": 54,
   "metadata": {},
   "outputs": [
    {
     "data": {
      "text/plain": [
       "1.633123935319537e+16"
      ]
     },
     "execution_count": 54,
     "metadata": {},
     "output_type": "execute_result"
    }
   ],
   "source": [
    "np.tan(pi/2)"
   ]
  },
  {
   "cell_type": "code",
   "execution_count": 55,
   "metadata": {},
   "outputs": [
    {
     "name": "stdout",
     "output_type": "stream",
     "text": [
      "-0.9999945\n",
      "0.9999945\n",
      "-0.9999945\n",
      "0.9999945\n",
      "-0.9998851\n",
      "0.9999847\n"
     ]
    }
   ],
   "source": [
    "#print the range of x, y and z in the r map\n",
    "print(np.min(r_map[:,:,0]))\n",
    "print(np.max(r_map[:,:,0]))\n",
    "print(np.min(r_map[:,:,1]))\n",
    "print(np.max(r_map[:,:,1]))\n",
    "print(np.min(r_map[:,:,2]))\n",
    "print(np.max(r_map[:,:,2]))"
   ]
  },
  {
   "cell_type": "code",
   "execution_count": 56,
   "metadata": {},
   "outputs": [],
   "source": [
    "sphere[0,1,:] = np.array([1,1,1])"
   ]
  },
  {
   "cell_type": "code",
   "execution_count": 57,
   "metadata": {},
   "outputs": [],
   "source": [
    "write_pfm('../sphere.pfm', sphere)"
   ]
  }
 ],
 "metadata": {
  "kernelspec": {
   "display_name": "base",
   "language": "python",
   "name": "python3"
  },
  "language_info": {
   "codemirror_mode": {
    "name": "ipython",
    "version": 3
   },
   "file_extension": ".py",
   "mimetype": "text/x-python",
   "name": "python",
   "nbconvert_exporter": "python",
   "pygments_lexer": "ipython3",
   "version": "3.9.7 (default, Sep 16 2021, 16:59:28) [MSC v.1916 64 bit (AMD64)]"
  },
  "orig_nbformat": 4,
  "vscode": {
   "interpreter": {
    "hash": "cb6034752f0a6076103fc9a54ba8033432e5651fd913552167f326798b9fd80c"
   }
  }
 },
 "nbformat": 4,
 "nbformat_minor": 2
}
