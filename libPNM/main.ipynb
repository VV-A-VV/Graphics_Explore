{
 "cells": [
  {
   "attachments": {},
   "cell_type": "markdown",
   "metadata": {},
   "source": [
    "Basic Function for read and write graph"
   ]
  },
  {
   "cell_type": "code",
   "execution_count": 47,
   "metadata": {},
   "outputs": [],
   "source": [
    "import sys\n",
    "import numpy as np\n",
    "from PNM import *\n",
    "# define pi for convenience\n",
    "pi = np.pi\n",
    "\n",
    "def CreateAndSavePFM(out_path):\n",
    "    width = 512\n",
    "    height = 512\n",
    "    numComponents = 3\n",
    "\n",
    "    img_out = np.empty(shape=(width, height, numComponents), dtype=np.float32)\n",
    "    \n",
    "    for y in range(height):\n",
    "        for x in range(width):\n",
    "            img_out[y,x,:] = 1.0\n",
    "\n",
    "    write_pfm(out_path, img_out)\n",
    "\n",
    "def LoadAndSavePPM(in_path, out_path):\n",
    "    img_in = read_ppm(in_path)\n",
    "    img_out = np.empty(shape=img_in.shape, dtype=img_in.dtype)\n",
    "    height,width,_ = img_in.shape # Retrieve height and width\n",
    "    for y in range(height):\n",
    "        for x in range(width):\n",
    "            img_out[y,x,:] = img_in[y,x,:] # Copy pixels\n",
    "\n",
    "    write_ppm(out_path, img_out)\n",
    "\n",
    "def LoadAndSavePFM(in_path, out_path):\n",
    "    img_in = read_pfm(in_path)\n",
    "    img_out = np.empty(shape=img_in.shape, dtype=img_in.dtype)\n",
    "    height,width,_ = img_in.shape # Retrieve height and width\n",
    "    for y in range(height):\n",
    "        for x in range(width):\n",
    "            img_out[y,x,:] = img_in[y,x,:] # Copy pixels\n",
    "\n",
    "    write_pfm(out_path, img_out)\n",
    "\n",
    "def LoadPPMAndSavePFM(in_path, out_path):\n",
    "    img_in = read_ppm(in_path)\n",
    "    img_out = np.empty(shape=img_in.shape, dtype=np.float32)\n",
    "    height,width,_ = img_in.shape\n",
    "    for y in range(height):\n",
    "        for x in range(width):\n",
    "            img_out[y,x,:] = img_in[y,x,:]/255.0\n",
    "\n",
    "    write_pfm(out_path, img_out)\n",
    "            \n",
    "def LoadPFMAndSavePPM(in_path, out_path):\n",
    "    img_in = read_pfm(in_path)\n",
    "    img_out = np.empty(shape=img_in.shape, dtype=np.float32)\n",
    "    height,width,_ = img_in.shape\n",
    "    for y in range(height):\n",
    "        for x in range(width):\n",
    "            img_out[y,x,:] = img_in[y,x,:] * 255.0\n",
    "\n",
    "    write_ppm(out_path, img_out.astype(np.uint8))\n",
    "\n",
    "def create_sphere_image():\n",
    "    width = 511\n",
    "    height = 511\n",
    "    numComponents = 3\n",
    "\n",
    "    img_out = np.empty(shape=(width, height, numComponents), dtype=np.float32)\n",
    "    # the sphere has diameter 511, the center point is the center of the image, the other part outside the sphere is black\n",
    "    for y in range(height):\n",
    "        for x in range(width):\n",
    "            if (x - 255.5) ** 2 + (y - 255.5) ** 2 <= 255.5 ** 2:\n",
    "                img_out[y, x, :] = 1.0\n",
    "            else:\n",
    "                img_out[y, x, :] = 0.0\n",
    "\n",
    "    return img_out\n"
   ]
  },
  {
   "attachments": {},
   "cell_type": "markdown",
   "metadata": {},
   "source": [
    "Load the environment graph and create the sphere"
   ]
  },
  {
   "cell_type": "code",
   "execution_count": 48,
   "metadata": {},
   "outputs": [
    {
     "name": "stdout",
     "output_type": "stream",
     "text": [
      "(511, 511, 3)\n",
      "(699, 1242, 3)\n"
     ]
    }
   ],
   "source": [
    "environment_graph = read_pfm('../Office/Office6.pfm')\n",
    "\n",
    "\n",
    "sphere = create_sphere_image()\n",
    "print(sphere.shape)\n",
    "print(environment_graph.shape)"
   ]
  },
  {
   "attachments": {},
   "cell_type": "markdown",
   "metadata": {},
   "source": [
    "Generate the vector map of the sphere"
   ]
  },
  {
   "cell_type": "code",
   "execution_count": 49,
   "metadata": {},
   "outputs": [],
   "source": [
    "# store the normal vector of each pixel\n",
    "normal = np.empty(shape=(sphere.shape[0], sphere.shape[1], 3), dtype=np.float32)\n",
    "for y in range(sphere.shape[0]):\n",
    "    for x in range(sphere.shape[1]):\n",
    "        if sphere[y, x, 0] == 1.0:\n",
    "            # move to the center of the sphere, y points up, x points right, z points out\n",
    "            x_ = (x - 255.5) / 255.5\n",
    "            y_ = -(y - 255.5) / 255.5\n",
    "            z = np.sqrt(1 - x_ ** 2 - y_ ** 2)\n",
    "            normal[y, x, :] = np.array([x_, y_, z])\n",
    "# save as the graph\n",
    "write_pfm( 'n_map.pfm', normal)"
   ]
  },
  {
   "attachments": {},
   "cell_type": "markdown",
   "metadata": {},
   "source": [
    "calculate the reflect vector with the normal vector and the view vector"
   ]
  },
  {
   "cell_type": "code",
   "execution_count": 50,
   "metadata": {},
   "outputs": [],
   "source": [
    "v = np.array([0, 0, 1])\n",
    "# r = 2*(n dot v)n – v\n",
    "r_map = np.empty(shape=(sphere.shape[0], sphere.shape[1], 3), dtype=np.float32)\n",
    "for y in range(sphere.shape[0]):\n",
    "    for x in range(sphere.shape[1]):\n",
    "        if sphere[y, x, 0] == 1.0:\n",
    "            n = normal[y, x, :]\n",
    "            r = 2 * np.dot(n, v) * n - v\n",
    "            r_map[y, x, :] = r/np.linalg.norm(r)\n",
    "write_pfm('../r_map.pfm', r_map)"
   ]
  },
  {
   "cell_type": "code",
   "execution_count": 51,
   "metadata": {},
   "outputs": [],
   "source": [
    "# conver the normal map and r map to the ppm image\n",
    "normal_ppm = np.empty(shape=(sphere.shape[0], sphere.shape[1], 3), dtype=np.uint8)\n",
    "r_map_ppm = np.empty(shape=(sphere.shape[0], sphere.shape[1], 3), dtype=np.uint8)\n",
    "for x in range(sphere.shape[0]):\n",
    "    for y in range(sphere.shape[1]):\n",
    "        if sphere[x, y, 0] == 1.0:\n",
    "            # normal_ppm[x, y, :] = (normal[x, y, :] + 1 ) * 127.5 int \n",
    "            # r_map_ppm[x, y, :] = (r_map[x, y, :] + 1 ) * 127.5 int\n",
    "            normal_ppm[x, y, :] = (normal[x, y, :]  + 1)/2 * 127.5\n",
    "            r_map_ppm[x, y, :] = (r_map[x, y, :] + 1)/2 * 127.5\n",
    "write_ppm('n_map.ppm', normal_ppm)\n",
    "write_ppm('r_map.ppm', r_map_ppm)"
   ]
  },
  {
   "attachments": {},
   "cell_type": "markdown",
   "metadata": {},
   "source": [
    "We here define the x towards right, y points up, and z point out of the xy planer.\n",
    "the phi $\\phi$ is the angle between point in the projection of x-z planner and x axis. the theta $\\theta$ is the angle between the point and the y axis."
   ]
  },
  {
   "cell_type": "code",
   "execution_count": 52,
   "metadata": {},
   "outputs": [],
   "source": [
    "def cartesian_to_spherical(x, y, z):\n",
    "    theta = np.arccos(y)\n",
    "    phi = np.arctan2(z, x)\n",
    "    return theta, phi\n"
   ]
  },
  {
   "cell_type": "code",
   "execution_count": 53,
   "metadata": {},
   "outputs": [],
   "source": [
    "sphere = create_sphere_image()\n",
    "for y in range(sphere.shape[0]):\n",
    "    for x in range(sphere.shape[1]):\n",
    "        if sphere[y, x, 0] == 1.0:\n",
    "            x_, y_, z = r_map[y, x, :]\n",
    "            theta, phi = cartesian_to_spherical(x_, y_, z)\n",
    "            theta = theta / np.pi \n",
    "            phi = (pi*3/2 - phi) / (2 * np.pi)\n",
    "            if phi > 1:\n",
    "                phi = phi - 1\n",
    "            sphere[y, x, :] = environment_graph[min(environment_graph.shape[0]-1,int(theta * environment_graph.shape[0])), min(environment_graph.shape[1]-1,int(phi * environment_graph.shape[1])), :]\n",
    "write_pfm('sphere.pfm', sphere)"
   ]
  },
  {
   "cell_type": "code",
   "execution_count": null,
   "metadata": {},
   "outputs": [],
   "source": []
  }
 ],
 "metadata": {
  "kernelspec": {
   "display_name": "base",
   "language": "python",
   "name": "python3"
  },
  "language_info": {
   "codemirror_mode": {
    "name": "ipython",
    "version": 3
   },
   "file_extension": ".py",
   "mimetype": "text/x-python",
   "name": "python",
   "nbconvert_exporter": "python",
   "pygments_lexer": "ipython3",
   "version": "3.9.7 (default, Sep 16 2021, 16:59:28) [MSC v.1916 64 bit (AMD64)]"
  },
  "orig_nbformat": 4,
  "vscode": {
   "interpreter": {
    "hash": "cb6034752f0a6076103fc9a54ba8033432e5651fd913552167f326798b9fd80c"
   }
  }
 },
 "nbformat": 4,
 "nbformat_minor": 2
}
